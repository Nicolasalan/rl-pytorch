{
 "cells": [
  {
   "cell_type": "code",
   "execution_count": 1,
   "metadata": {},
   "outputs": [
    {
     "name": "stdout",
     "output_type": "stream",
     "text": [
      "Collecting unityagents (from -r requirements.txt (line 1))\n",
      "\u001b[?25l  Downloading https://files.pythonhosted.org/packages/82/42/c337c5ba34c72a2e01fab4abe113ba9f282c14404ced5d9568ac47a7c337/unityagents-0.4.0-py3-none-any.whl (72kB)\n",
      "\u001b[K    100% |████████████████████████████████| 81kB 5.8MB/s ta 0:00:011\n",
      "\u001b[?25hRequirement already satisfied: tensorflow in /opt/conda/lib/python3.6/site-packages (from -r requirements.txt (line 2)) (1.3.0)\n",
      "Requirement already satisfied: torch in /opt/conda/lib/python3.6/site-packages (from -r requirements.txt (line 3)) (0.4.0)\n",
      "Collecting cupy-cuda102 (from -r requirements.txt (line 4))\n",
      "\u001b[?25l  Downloading https://files.pythonhosted.org/packages/a5/58/f60f5302f06fdfa6f3ad3d40e2c60194d2c9daec332fb5496698eabc8cd9/cupy_cuda102-9.6.0-cp36-cp36m-manylinux1_x86_64.whl (60.7MB)\n",
      "\u001b[K    100% |████████████████████████████████| 60.7MB 717kB/s eta 0:00:01\n",
      "\u001b[?25hRequirement already satisfied: numpy in /opt/conda/lib/python3.6/site-packages (from -r requirements.txt (line 5)) (1.12.1)\n",
      "Requirement already satisfied: matplotlib in /opt/conda/lib/python3.6/site-packages (from -r requirements.txt (line 6)) (2.1.0)\n",
      "Requirement already satisfied: tqdm in /opt/conda/lib/python3.6/site-packages (from -r requirements.txt (line 7)) (4.11.2)\n",
      "Requirement already satisfied: pyyaml in /opt/conda/lib/python3.6/site-packages (from unityagents->-r requirements.txt (line 1)) (3.12)\n",
      "Collecting docopt (from unityagents->-r requirements.txt (line 1))\n",
      "  Downloading https://files.pythonhosted.org/packages/a2/55/8f8cab2afd404cf578136ef2cc5dfb50baa1761b68c9da1fb1e4eed343c9/docopt-0.6.2.tar.gz\n",
      "Requirement already satisfied: pytest>=3.2.2 in /opt/conda/lib/python3.6/site-packages (from unityagents->-r requirements.txt (line 1)) (4.5.0)\n",
      "Collecting protobuf==3.5.2 (from unityagents->-r requirements.txt (line 1))\n",
      "\u001b[?25l  Downloading https://files.pythonhosted.org/packages/9b/0d/6e9cf54be86c742a375a0ca0addadb582c890939b1b6d3339570e51091bd/protobuf-3.5.2-cp36-cp36m-manylinux1_x86_64.whl (6.4MB)\n",
      "\u001b[K    100% |████████████████████████████████| 6.4MB 6.6MB/s eta 0:00:01   4% |█▍                              | 286kB 44.0MB/s eta 0:00:01\n",
      "\u001b[?25hRequirement already satisfied: Pillow>=4.2.1 in /opt/conda/lib/python3.6/site-packages (from unityagents->-r requirements.txt (line 1)) (5.2.0)\n",
      "Collecting jupyter (from unityagents->-r requirements.txt (line 1))\n",
      "  Downloading https://files.pythonhosted.org/packages/83/df/0f5dd132200728a86190397e1ea87cd76244e42d39ec5e88efd25b2abd7e/jupyter-1.0.0-py2.py3-none-any.whl\n",
      "Collecting grpcio==1.11.0 (from unityagents->-r requirements.txt (line 1))\n",
      "\u001b[?25l  Downloading https://files.pythonhosted.org/packages/c8/b8/00e703183b7ae5e02f161dafacdfa8edbd7234cb7434aef00f126a3a511e/grpcio-1.11.0-cp36-cp36m-manylinux1_x86_64.whl (8.8MB)\n",
      "\u001b[K    100% |████████████████████████████████| 8.8MB 7.1MB/s eta 0:00:01\n",
      "\u001b[?25hRequirement already satisfied: six>=1.10.0 in /opt/conda/lib/python3.6/site-packages (from tensorflow->-r requirements.txt (line 2)) (1.11.0)\n",
      "Requirement already satisfied: wheel>=0.26 in /opt/conda/lib/python3.6/site-packages (from tensorflow->-r requirements.txt (line 2)) (0.30.0)\n",
      "Requirement already satisfied: tensorflow-tensorboard<0.2.0,>=0.1.0 in /opt/conda/lib/python3.6/site-packages (from tensorflow->-r requirements.txt (line 2)) (0.1.5)\n",
      "Collecting fastrlock>=0.5 (from cupy-cuda102->-r requirements.txt (line 4))\n",
      "\u001b[?25l  Downloading https://files.pythonhosted.org/packages/fc/db/495b49283d22edaee5f20af623b490c36de14d54a5dbe0a3b57840165108/fastrlock-0.8-cp36-cp36m-manylinux_2_5_x86_64.manylinux1_x86_64.manylinux_2_12_x86_64.manylinux2010_x86_64.whl (44kB)\n",
      "\u001b[K    100% |████████████████████████████████| 51kB 14.6MB/s ta 0:00:01\n",
      "\u001b[?25hRequirement already satisfied: python-dateutil>=2.0 in /opt/conda/lib/python3.6/site-packages (from matplotlib->-r requirements.txt (line 6)) (2.6.1)\n",
      "Requirement already satisfied: pytz in /opt/conda/lib/python3.6/site-packages (from matplotlib->-r requirements.txt (line 6)) (2017.3)\n",
      "Requirement already satisfied: cycler>=0.10 in /opt/conda/lib/python3.6/site-packages/cycler-0.10.0-py3.6.egg (from matplotlib->-r requirements.txt (line 6)) (0.10.0)\n",
      "Requirement already satisfied: pyparsing!=2.0.4,!=2.1.2,!=2.1.6,>=2.0.1 in /opt/conda/lib/python3.6/site-packages (from matplotlib->-r requirements.txt (line 6)) (2.2.0)\n",
      "Requirement already satisfied: setuptools in /opt/conda/lib/python3.6/site-packages (from pytest>=3.2.2->unityagents->-r requirements.txt (line 1)) (38.4.0)\n",
      "Requirement already satisfied: attrs>=17.4.0 in /opt/conda/lib/python3.6/site-packages (from pytest>=3.2.2->unityagents->-r requirements.txt (line 1)) (19.1.0)\n",
      "Requirement already satisfied: atomicwrites>=1.0 in /opt/conda/lib/python3.6/site-packages (from pytest>=3.2.2->unityagents->-r requirements.txt (line 1)) (1.3.0)\n",
      "Requirement already satisfied: wcwidth in /opt/conda/lib/python3.6/site-packages (from pytest>=3.2.2->unityagents->-r requirements.txt (line 1)) (0.1.7)\n",
      "Requirement already satisfied: py>=1.5.0 in /opt/conda/lib/python3.6/site-packages (from pytest>=3.2.2->unityagents->-r requirements.txt (line 1)) (1.8.0)\n",
      "Requirement already satisfied: pluggy!=0.10,<1.0,>=0.9 in /opt/conda/lib/python3.6/site-packages (from pytest>=3.2.2->unityagents->-r requirements.txt (line 1)) (0.11.0)\n",
      "Requirement already satisfied: more-itertools>=4.0.0; python_version > \"2.7\" in /opt/conda/lib/python3.6/site-packages (from pytest>=3.2.2->unityagents->-r requirements.txt (line 1)) (7.0.0)\n",
      "Requirement already satisfied: notebook in /opt/conda/lib/python3.6/site-packages (from jupyter->unityagents->-r requirements.txt (line 1)) (5.7.0)\n",
      "Requirement already satisfied: ipykernel in /opt/conda/lib/python3.6/site-packages (from jupyter->unityagents->-r requirements.txt (line 1)) (4.9.0)\n",
      "Collecting qtconsole (from jupyter->unityagents->-r requirements.txt (line 1))\n",
      "\u001b[?25l  Downloading https://files.pythonhosted.org/packages/67/17/d12ae86393682eaa65741808aa5207dfe85b8504874d09f1bbd1feebdc2a/qtconsole-5.2.2-py3-none-any.whl (120kB)\n",
      "\u001b[K    100% |████████████████████████████████| 122kB 21.2MB/s ta 0:00:01\n",
      "\u001b[?25hCollecting jupyter-console (from jupyter->unityagents->-r requirements.txt (line 1))\n",
      "  Downloading https://files.pythonhosted.org/packages/fc/e9/5d4e1e616f7d7a8a9d7f313ac14bf43d1ea33cae6859eeb761b8cac364c2/jupyter_console-6.4.3-py3-none-any.whl\n",
      "Requirement already satisfied: nbconvert in /opt/conda/lib/python3.6/site-packages (from jupyter->unityagents->-r requirements.txt (line 1)) (5.4.0)\n",
      "Requirement already satisfied: ipywidgets in /opt/conda/lib/python3.6/site-packages (from jupyter->unityagents->-r requirements.txt (line 1)) (7.0.5)\n",
      "Requirement already satisfied: werkzeug>=0.11.10 in /opt/conda/lib/python3.6/site-packages (from tensorflow-tensorboard<0.2.0,>=0.1.0->tensorflow->-r requirements.txt (line 2)) (0.14.1)\n",
      "Requirement already satisfied: html5lib==0.9999999 in /opt/conda/lib/python3.6/site-packages (from tensorflow-tensorboard<0.2.0,>=0.1.0->tensorflow->-r requirements.txt (line 2)) (0.9999999)\n",
      "Requirement already satisfied: markdown>=2.6.8 in /opt/conda/lib/python3.6/site-packages (from tensorflow-tensorboard<0.2.0,>=0.1.0->tensorflow->-r requirements.txt (line 2)) (2.6.9)\n",
      "Requirement already satisfied: bleach==1.5.0 in /opt/conda/lib/python3.6/site-packages (from tensorflow-tensorboard<0.2.0,>=0.1.0->tensorflow->-r requirements.txt (line 2)) (1.5.0)\n",
      "Requirement already satisfied: jinja2 in /opt/conda/lib/python3.6/site-packages (from notebook->jupyter->unityagents->-r requirements.txt (line 1)) (2.10)\n",
      "Requirement already satisfied: tornado>=4 in /opt/conda/lib/python3.6/site-packages (from notebook->jupyter->unityagents->-r requirements.txt (line 1)) (4.5.3)\n",
      "Requirement already satisfied: pyzmq>=17 in /opt/conda/lib/python3.6/site-packages (from notebook->jupyter->unityagents->-r requirements.txt (line 1)) (17.1.2)\n",
      "Requirement already satisfied: ipython_genutils in /opt/conda/lib/python3.6/site-packages (from notebook->jupyter->unityagents->-r requirements.txt (line 1)) (0.2.0)\n",
      "Requirement already satisfied: traitlets>=4.2.1 in /opt/conda/lib/python3.6/site-packages (from notebook->jupyter->unityagents->-r requirements.txt (line 1)) (4.3.2)\n",
      "Requirement already satisfied: jupyter_core>=4.4.0 in /opt/conda/lib/python3.6/site-packages (from notebook->jupyter->unityagents->-r requirements.txt (line 1)) (4.4.0)\n"
     ]
    },
    {
     "name": "stdout",
     "output_type": "stream",
     "text": [
      "Requirement already satisfied: jupyter_client>=5.2.0 in /opt/conda/lib/python3.6/site-packages (from notebook->jupyter->unityagents->-r requirements.txt (line 1)) (5.2.4)\n",
      "Requirement already satisfied: nbformat in /opt/conda/lib/python3.6/site-packages (from notebook->jupyter->unityagents->-r requirements.txt (line 1)) (4.4.0)\n",
      "Requirement already satisfied: Send2Trash in /opt/conda/lib/python3.6/site-packages (from notebook->jupyter->unityagents->-r requirements.txt (line 1)) (1.5.0)\n",
      "Requirement already satisfied: terminado>=0.8.1 in /opt/conda/lib/python3.6/site-packages (from notebook->jupyter->unityagents->-r requirements.txt (line 1)) (0.8.1)\n",
      "Requirement already satisfied: prometheus_client in /opt/conda/lib/python3.6/site-packages (from notebook->jupyter->unityagents->-r requirements.txt (line 1)) (0.3.1)\n",
      "Requirement already satisfied: ipython>=4.0.0 in /opt/conda/lib/python3.6/site-packages (from ipykernel->jupyter->unityagents->-r requirements.txt (line 1)) (6.5.0)\n",
      "Collecting qtpy (from qtconsole->jupyter->unityagents->-r requirements.txt (line 1))\n",
      "\u001b[?25l  Downloading https://files.pythonhosted.org/packages/ae/b0/56e602873b05108f0ef9189a237fefcfbcd2fa3d84130b59e50c84fc90e8/QtPy-2.0.1-py3-none-any.whl (65kB)\n",
      "\u001b[K    100% |████████████████████████████████| 71kB 17.2MB/s ta 0:00:01\n",
      "\u001b[?25hRequirement already satisfied: pygments in /opt/conda/lib/python3.6/site-packages (from qtconsole->jupyter->unityagents->-r requirements.txt (line 1)) (2.2.0)\n",
      "Collecting prompt-toolkit!=3.0.0,!=3.0.1,<3.1.0,>=2.0.0 (from jupyter-console->jupyter->unityagents->-r requirements.txt (line 1))\n",
      "\u001b[?25l  Downloading https://files.pythonhosted.org/packages/00/e4/beb2fad0bec554a011b321d0f6b99981f9171c0b05d03a6948e45ac8a5be/prompt_toolkit-3.0.28-py3-none-any.whl (380kB)\n",
      "\u001b[K    100% |████████████████████████████████| 389kB 29.0MB/s ta 0:00:01\n",
      "\u001b[?25hRequirement already satisfied: mistune>=0.8.1 in /opt/conda/lib/python3.6/site-packages (from nbconvert->jupyter->unityagents->-r requirements.txt (line 1)) (0.8.3)\n",
      "Requirement already satisfied: entrypoints>=0.2.2 in /opt/conda/lib/python3.6/site-packages (from nbconvert->jupyter->unityagents->-r requirements.txt (line 1)) (0.2.3)\n",
      "Requirement already satisfied: pandocfilters>=1.4.1 in /opt/conda/lib/python3.6/site-packages (from nbconvert->jupyter->unityagents->-r requirements.txt (line 1)) (1.4.1)\n",
      "Requirement already satisfied: testpath in /opt/conda/lib/python3.6/site-packages (from nbconvert->jupyter->unityagents->-r requirements.txt (line 1)) (0.3.1)\n",
      "Requirement already satisfied: defusedxml in /opt/conda/lib/python3.6/site-packages (from nbconvert->jupyter->unityagents->-r requirements.txt (line 1)) (0.5.0)\n",
      "Collecting widgetsnbextension~=3.0.0 (from ipywidgets->jupyter->unityagents->-r requirements.txt (line 1))\n",
      "\u001b[?25l  Downloading https://files.pythonhosted.org/packages/8d/f2/c8bcccccbed39d51d3e237fb0c0f0c9bbc845d12afc41f5ca5f5728fffc7/widgetsnbextension-3.0.8-py2.py3-none-any.whl (2.2MB)\n",
      "\u001b[K    100% |████████████████████████████████| 2.2MB 17.8MB/s ta 0:00:01\n",
      "\u001b[?25hRequirement already satisfied: MarkupSafe>=0.23 in /opt/conda/lib/python3.6/site-packages (from jinja2->notebook->jupyter->unityagents->-r requirements.txt (line 1)) (1.0)\n",
      "Requirement already satisfied: decorator in /opt/conda/lib/python3.6/site-packages (from traitlets>=4.2.1->notebook->jupyter->unityagents->-r requirements.txt (line 1)) (4.0.11)\n",
      "Requirement already satisfied: jsonschema!=2.5.0,>=2.4 in /opt/conda/lib/python3.6/site-packages (from nbformat->notebook->jupyter->unityagents->-r requirements.txt (line 1)) (2.6.0)\n",
      "Requirement already satisfied: simplegeneric>0.8 in /opt/conda/lib/python3.6/site-packages (from ipython>=4.0.0->ipykernel->jupyter->unityagents->-r requirements.txt (line 1)) (0.8.1)\n",
      "Requirement already satisfied: backcall in /opt/conda/lib/python3.6/site-packages (from ipython>=4.0.0->ipykernel->jupyter->unityagents->-r requirements.txt (line 1)) (0.1.0)\n",
      "Requirement already satisfied: jedi>=0.10 in /opt/conda/lib/python3.6/site-packages (from ipython>=4.0.0->ipykernel->jupyter->unityagents->-r requirements.txt (line 1)) (0.10.2)\n",
      "Requirement already satisfied: pexpect; sys_platform != \"win32\" in /opt/conda/lib/python3.6/site-packages (from ipython>=4.0.0->ipykernel->jupyter->unityagents->-r requirements.txt (line 1)) (4.3.1)\n",
      "Requirement already satisfied: pickleshare in /opt/conda/lib/python3.6/site-packages (from ipython>=4.0.0->ipykernel->jupyter->unityagents->-r requirements.txt (line 1)) (0.7.4)\n",
      "Requirement already satisfied: packaging in /opt/conda/lib/python3.6/site-packages (from qtpy->qtconsole->jupyter->unityagents->-r requirements.txt (line 1)) (16.8)\n",
      "Requirement already satisfied: ptyprocess>=0.5 in /opt/conda/lib/python3.6/site-packages (from pexpect; sys_platform != \"win32\"->ipython>=4.0.0->ipykernel->jupyter->unityagents->-r requirements.txt (line 1)) (0.5.2)\n",
      "Building wheels for collected packages: docopt\n",
      "  Running setup.py bdist_wheel for docopt ... \u001b[?25ldone\n",
      "\u001b[?25h  Stored in directory: /root/.cache/pip/wheels/9b/04/dd/7daf4150b6d9b12949298737de9431a324d4b797ffd63f526e\n",
      "Successfully built docopt\n",
      "\u001b[31mipython 6.5.0 has requirement prompt-toolkit<2.0.0,>=1.0.15, but you'll have prompt-toolkit 3.0.28 which is incompatible.\u001b[0m\n",
      "\u001b[31mjupyter-console 6.4.3 has requirement jupyter-client>=7.0.0, but you'll have jupyter-client 5.2.4 which is incompatible.\u001b[0m\n",
      "\u001b[31munityagents 0.4.0 has requirement tensorflow==1.7.1, but you'll have tensorflow 1.3.0 which is incompatible.\u001b[0m\n",
      "\u001b[31mcupy-cuda102 9.6.0 has requirement numpy<1.24,>=1.17, but you'll have numpy 1.12.1 which is incompatible.\u001b[0m\n",
      "Installing collected packages: docopt, protobuf, qtpy, qtconsole, prompt-toolkit, jupyter-console, jupyter, grpcio, unityagents, fastrlock, cupy-cuda102, widgetsnbextension\n",
      "  Found existing installation: protobuf 3.5.1\n",
      "    Uninstalling protobuf-3.5.1:\n",
      "      Successfully uninstalled protobuf-3.5.1\n",
      "  Found existing installation: prompt-toolkit 1.0.15\n",
      "    Uninstalling prompt-toolkit-1.0.15:\n",
      "      Successfully uninstalled prompt-toolkit-1.0.15\n",
      "  Found existing installation: widgetsnbextension 3.1.0\n",
      "    Uninstalling widgetsnbextension-3.1.0:\n",
      "      Successfully uninstalled widgetsnbextension-3.1.0\n",
      "Successfully installed cupy-cuda102-9.6.0 docopt-0.6.2 fastrlock-0.8 grpcio-1.11.0 jupyter-1.0.0 jupyter-console-6.4.3 prompt-toolkit-3.0.28 protobuf-3.5.2 qtconsole-5.2.2 qtpy-2.0.1 unityagents-0.4.0 widgetsnbextension-3.0.8\n"
     ]
    }
   ],
   "source": [
    "!pip install -r requirements.txt"
   ]
  },
  {
   "cell_type": "code",
   "execution_count": 2,
   "metadata": {},
   "outputs": [],
   "source": [
    "import random\n",
    "import torch\n",
    "import numpy as np\n",
    "import matplotlib.pyplot as plt\n",
    "%matplotlib inline\n",
    "\n",
    "\n",
    "from collections import deque\n",
    "from workspace_utils import active_session\n",
    "from agent import Agent\n",
    "from unityagents import UnityEnvironment"
   ]
  },
  {
   "cell_type": "code",
   "execution_count": 3,
   "metadata": {},
   "outputs": [
    {
     "name": "stderr",
     "output_type": "stream",
     "text": [
      "INFO:unityagents:\n",
      "'Academy' started successfully!\n",
      "Unity Academy name: Academy\n",
      "        Number of Brains: 1\n",
      "        Number of External Brains : 1\n",
      "        Lesson number : 0\n",
      "        Reset Parameters :\n",
      "\t\tgoal_speed -> 1.0\n",
      "\t\tgoal_size -> 5.0\n",
      "Unity brain name: ReacherBrain\n",
      "        Number of Visual Observations (per agent): 0\n",
      "        Vector Observation space type: continuous\n",
      "        Vector Observation space size (per agent): 33\n",
      "        Number of stacked Vector Observation: 1\n",
      "        Vector Action space type: continuous\n",
      "        Vector Action space size (per agent): 4\n",
      "        Vector Action descriptions: , , , \n"
     ]
    }
   ],
   "source": [
    "# versão com 20 agentes do ambiente\n",
    "env = UnityEnvironment(file_name='/data/Reacher_Linux_NoVis/Reacher.app')"
   ]
  },
  {
   "cell_type": "code",
   "execution_count": 4,
   "metadata": {},
   "outputs": [],
   "source": [
    "# obtenha o cérebro padrão\n",
    "brain_name = env.brain_names[0]\n",
    "brain = env.brains[brain_name]"
   ]
  },
  {
   "cell_type": "code",
   "execution_count": 5,
   "metadata": {},
   "outputs": [
    {
     "name": "stdout",
     "output_type": "stream",
     "text": [
      "Number of agents: 20\n",
      "Size of each action: 4\n",
      "There are 20 agents. Each observes a state with length: 33\n",
      "The state for the first agent looks like: [  0.00000000e+00  -4.00000000e+00   0.00000000e+00   1.00000000e+00\n",
      "  -0.00000000e+00  -0.00000000e+00  -4.37113883e-08   0.00000000e+00\n",
      "   0.00000000e+00   0.00000000e+00   0.00000000e+00   0.00000000e+00\n",
      "   0.00000000e+00   0.00000000e+00  -1.00000000e+01   0.00000000e+00\n",
      "   1.00000000e+00  -0.00000000e+00  -0.00000000e+00  -4.37113883e-08\n",
      "   0.00000000e+00   0.00000000e+00   0.00000000e+00   0.00000000e+00\n",
      "   0.00000000e+00   0.00000000e+00   5.75471878e+00  -1.00000000e+00\n",
      "   5.55726624e+00   0.00000000e+00   1.00000000e+00   0.00000000e+00\n",
      "  -1.68164849e-01]\n"
     ]
    }
   ],
   "source": [
    "# reseta o ambiente\n",
    "env_info = env.reset(train_mode=True)[brain_name]\n",
    "\n",
    "# número de agentes\n",
    "num_agents = len(env_info.agents)\n",
    "print('Number of agents:', num_agents)\n",
    "\n",
    "# tamanho de cada ação\n",
    "action_size = brain.vector_action_space_size\n",
    "print('Size of each action:', action_size)\n",
    "\n",
    "# examina o espaço de estados \n",
    "states = env_info.vector_observations\n",
    "state_size = states.shape[1]\n",
    "print('There are {} agents. Each observes a state with length: {}'.format(states.shape[0], state_size))\n",
    "print('The state for the first agent looks like:', states[0])"
   ]
  },
  {
   "cell_type": "code",
   "execution_count": 6,
   "metadata": {},
   "outputs": [
    {
     "name": "stdout",
     "output_type": "stream",
     "text": [
      "Total score (averaged over agents) this episode: 0.18099999595433475\n"
     ]
    }
   ],
   "source": [
    "env_info = env.reset(train_mode=True)[brain_name]      # reseta o ambiente   \n",
    "states = env_info.vector_observations                  # obtém o estado atual (para cada agente)\n",
    "scores = np.zeros(num_agents)                          # inicializa a pontuação (para cada agente)\n",
    "while True:\n",
    "    actions = np.random.randn(num_agents, action_size) # selecione uma ação (para cada agente)\n",
    "    actions = np.clip(actions, -1, 1)                  # todas as ações entre -1 e 1\n",
    "    env_info = env.step(actions)[brain_name]           # envia todas as ações para o ambiente\n",
    "    next_states = env_info.vector_observations         # obtém o próximo estado (para cada agente)\n",
    "    rewards = env_info.rewards                         # obtenha recompensa (para cada agente)\n",
    "    dones = env_info.local_done                        # veja se o episódio terminou\n",
    "    scores += env_info.rewards                         # atualize a pontuação (para cada agente)\n",
    "    states = next_states                               # role os estados para a próxima etapa de tempo\n",
    "    if np.any(dones):                                  # loop de saída se o episódio terminar\n",
    "        break\n",
    "print('Total score (averaged over agents) this episode: {}'.format(np.mean(scores)))"
   ]
  },
  {
   "cell_type": "code",
   "execution_count": 7,
   "metadata": {},
   "outputs": [],
   "source": [
    "agent = Agent(state_size=state_size, action_size=action_size, random_seed=42)"
   ]
  },
  {
   "cell_type": "code",
   "execution_count": 8,
   "metadata": {
    "scrolled": false
   },
   "outputs": [],
   "source": [
    "def ddpg(n_episodes=2000, print_every=10, max_t=1000, score_solved=30):\n",
    "    \"\"\"\n",
    "    Parâmetros\n",
    "    ======\n",
    "        n_episodes (int): número máximo de episódios de treinamento\n",
    "        max_t (int): número máximo de timesteps por episódio\n",
    "    \"\"\"\n",
    "    scores_window = deque(maxlen=100)                     # pontuações médias dos episódios mais recentes\n",
    "    scores = []                                           # lista de pontuações médias de cada episódio\n",
    "                \n",
    "    for i_episode in range(1, n_episodes+1):\n",
    "        score = np.zeros(num_agents)                      # inicializar pontuação para cada agente\n",
    "        env_info = env.reset(train_mode=True)[brain_name]\n",
    "        agent.reset()                                     # redefinir ambiente\n",
    "        states = env_info.vector_observations             # obtém o estado atual de cada agente\n",
    "        rewards = env_info.rewards\n",
    "        for t in range(max_t):\n",
    "            actions = agent.act(states)                   # selecione uma ação\n",
    "            env_info = env.step(actions)[brain_name]      # envia ações para o ambiente\n",
    "            next_states = env_info.vector_observations    # obtém o próximo estado\n",
    "            rewards = env_info.rewards                    # obter recompensa\n",
    "            dones = env_info.local_done                   # ver se o episódio terminou\n",
    "            \n",
    "            # salva a experiência no buffer de repetição, executa a etapa de aprendizado em um intervalo definido\n",
    "            for state, action, reward, next_state, done in zip(states, actions, rewards, next_states, dones):\n",
    "                agent.step(state, action, reward, next_state, done, t)\n",
    "                \n",
    "            states = next_states\n",
    "            score += rewards\n",
    "            if np.any(dones):                             # loop de saída quando o episódio termina\n",
    "                break              \n",
    "            \n",
    "        scores_window.append(score)                       # salvar pontuação média para o episódio\n",
    "        scores.append(score)                              # salva pontuação média na janela\n",
    "            \n",
    "        print('\\rEpisode {}\\tAverage Score: {:.4f}'.format(i_episode, np.mean(scores_window)), end=\"\") \n",
    "            \n",
    "        if i_episode % print_every == 0:\n",
    "            print('\\rEpisode {}\\tAverage Score: {:.4f}'.format(i_episode, np.mean(scores_window)))\n",
    "        if np.mean(scores_window) >= score_solved:\n",
    "            print('\\nEnvironment solved in {:d} episodes!\\tAverage Score: {:.4f}'.format(i_episode, np.mean(scores_window)))\n",
    "            torch.save(agent.actor_local.state_dict(), 'actor_checkpoint.pth')\n",
    "            torch.save(agent.critic_local.state_dict(), 'critic_checkpoint.pth')\n",
    "            break\n",
    "\n",
    "    return scores\n",
    "\n"
   ]
  },
  {
   "cell_type": "code",
   "execution_count": 9,
   "metadata": {},
   "outputs": [
    {
     "name": "stdout",
     "output_type": "stream",
     "text": [
      "Episode 10\tAverage Score: 3.3691\n",
      "Episode 20\tAverage Score: 7.0454\n",
      "Episode 30\tAverage Score: 10.1444\n",
      "Episode 40\tAverage Score: 13.4168\n",
      "Episode 50\tAverage Score: 16.9563\n",
      "Episode 60\tAverage Score: 20.0380\n",
      "Episode 70\tAverage Score: 22.4875\n",
      "Episode 80\tAverage Score: 24.3858\n",
      "Episode 90\tAverage Score: 25.8673\n",
      "Episode 100\tAverage Score: 27.0639\n",
      "Episode 109\tAverage Score: 30.1899\n",
      "Environment solved in 109 episodes!\tAverage Score: 30.1899\n"
     ]
    }
   ],
   "source": [
    "with active_session():\n",
    "    scores = ddpg()"
   ]
  },
  {
   "cell_type": "code",
   "execution_count": 10,
   "metadata": {},
   "outputs": [
    {
     "data": {
      "image/png": "[encoded data removed]",
      "text/plain": [
       "<matplotlib.figure.Figure at 0x7f1e1a6f1b38>"
      ]
     },
     "metadata": {
      "needs_background": "light"
     },
     "output_type": "display_data"
    }
   ],
   "source": [
    "fig = plt.figure()\n",
    "ax = fig.add_subplot(111)\n",
    "plt.plot(np.arange(1, len(scores)+1), scores)\n",
    "plt.ylabel('Score')\n",
    "plt.xlabel('Episode')\n",
    "plt.show()"
   ]
  },
  {
   "cell_type": "code",
   "execution_count": 12,
   "metadata": {},
   "outputs": [
    {
     "name": "stdout",
     "output_type": "stream",
     "text": [
      "Score: [ 39.68999911  36.28999919  39.63999911  35.17999921  39.35999912\n",
      "  37.76999916  37.87999915  38.74999913  39.37999912  27.44999939\n",
      "  39.22999912  39.61999911  39.66999911  36.56999918  39.22999912\n",
      "  39.18999912  35.52999921  38.55999914  38.13999915  36.14999919]\n"
     ]
    }
   ],
   "source": [
    "agent.actor_local.load_state_dict(torch.load('actor_checkpoint.pth'))\n",
    "agent.critic_local.load_state_dict(torch.load('critic_checkpoint.pth'))\n",
    "\n",
    "env_info = env.reset(train_mode=False)[brain_name] \n",
    "state = env_info.vector_observations               \n",
    "score = np.zeros(num_agents)                       \n",
    "while True:\n",
    "    action = agent.act(state)                     \n",
    "    env_info = env.step(action)[brain_name]        \n",
    "    next_state = env_info.vector_observations  \n",
    "    reward = env_info.rewards                      \n",
    "    done = env_info.local_done                     \n",
    "    score += reward                                \n",
    "    state = next_state                            \n",
    "    if np.any(done):\n",
    "        break\n",
    "    \n",
    "print(\"Score: {}\".format(score))"
   ]
  },
  {
   "cell_type": "code",
   "execution_count": null,
   "metadata": {},
   "outputs": [],
   "source": [
    "env.close()"
   ]
  }
 ],
 "metadata": {
  "kernelspec": {
   "display_name": "Python 3.9.6 64-bit",
   "language": "python",
   "name": "python3"
  },
  "language_info": {
   "codemirror_mode": {
    "name": "ipython",
    "version": 3
   },
   "file_extension": ".py",
   "mimetype": "text/x-python",
   "name": "python",
   "nbconvert_exporter": "python",
   "pygments_lexer": "ipython3",
   "version": "3.9.6"
  },
  "vscode": {
   "interpreter": {
    "hash": "31f2aee4e71d21fbe5cf8b01ff0e069b9275f58929596ceb00d14d90e3e16cd6"
   }
  }
 },
 "nbformat": 4,
 "nbformat_minor": 2
}
